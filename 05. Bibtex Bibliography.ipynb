{
 "cells": [
  {
   "cell_type": "markdown",
   "id": "71d7dab7-9569-4f4c-85e7-2c182bfe0a50",
   "metadata": {},
   "source": [
    "DiDonato, Theresa, and Brett Jakubiak. The Science of Romantic Relationships. Cambridge \n",
    "University Press, 2023. "
   ]
  },
  {
   "cell_type": "code",
   "execution_count": null,
   "id": "5f075536-0a91-4ada-9e43-bccc54433720",
   "metadata": {},
   "outputs": [],
   "source": [
    "@book{didonato2023science,\n",
    "  title={The Science of Romantic Relationships},\n",
    "  author={DiDonato, Theresa and Jakubiak, Brett},\n",
    "  year={2023},\n",
    "  publisher={Cambridge University Press}\n",
    "}"
   ]
  },
  {
   "cell_type": "markdown",
   "id": "835ee184-e681-41da-9946-a98362a07779",
   "metadata": {},
   "source": [
    "Meeks, B. S., Hendrick, S. S., & Hendrick, C. (1998). Communication, love and \n",
    "relationship satisfaction. Journal of Social and Personal Relationships, 15(6), 755-773."
   ]
  },
  {
   "cell_type": "code",
   "execution_count": null,
   "id": "8d48b4da-f9ed-4582-9908-890ea8b1c236",
   "metadata": {},
   "outputs": [],
   "source": [
    "@article{meeks1998communication,\n",
    "  title={Communication, love and relationship satisfaction},\n",
    "  author={Meeks, Brenda S and Hendrick, Susan S and Hendrick, Clyde},\n",
    "  journal={Journal of Social and Personal Relationships},\n",
    "  volume={15},\n",
    "  number={6},\n",
    "  pages={755--773},\n",
    "  year={1998},\n",
    "  publisher={Sage Publications Sage CA: Thousand Oaks, CA}\n",
    "}"
   ]
  },
  {
   "cell_type": "markdown",
   "id": "dba06c63-85a8-4212-9ec2-2e3a704b6123",
   "metadata": {},
   "source": [
    "Reese‐Weber, M. (2015). Intimacy, communication, and aggressive behaviors: Variations by \n",
    "phases of romantic relationship development. Personal Relationships, 22(2), 204-215. "
   ]
  },
  {
   "cell_type": "code",
   "execution_count": null,
   "id": "a7767493-4136-4175-9c45-d89318e474e0",
   "metadata": {},
   "outputs": [],
   "source": [
    "@article{reese2015intimacy,\n",
    "  title={Intimacy, communication, and aggressive behaviors: Variations by phases of romantic relationship development},\n",
    "  author={REESE-WEBER, MARLA},\n",
    "  journal={Personal Relationships},\n",
    "  volume={22},\n",
    "  number={2},\n",
    "  pages={204--215},\n",
    "  year={2015},\n",
    "  publisher={Wiley Online Library}\n",
    "}"
   ]
  },
  {
   "cell_type": "markdown",
   "id": "48012021-4a68-47eb-9e42-656019ec56ac",
   "metadata": {},
   "source": [
    "Umphrey, L. R., & Sherblom, J. C. (2001). The role of relational interdependence, \n",
    "relationship thinking, and relational communication in three stages of romantic \n",
    "relationships. Communication Research Reports, 18(4), 324-333. "
   ]
  },
  {
   "cell_type": "code",
   "execution_count": null,
   "id": "d7b023bf-224d-4ae6-ac66-7611bec75a2c",
   "metadata": {},
   "outputs": [],
   "source": [
    "@article{umphrey2001role,\n",
    "  title={The role of relational interdependence, relationship thinking, and relational communication in three stages of romantic relationships},\n",
    "  author={Umphrey, Laura R and Sherblom, John C},\n",
    "  journal={Communication Research Reports},\n",
    "  volume={18},\n",
    "  number={4},\n",
    "  pages={324--333},\n",
    "  year={2001},\n",
    "  publisher={Taylor \\& Francis}\n",
    "}"
   ]
  },
  {
   "cell_type": "markdown",
   "id": "cad665fb-2b9c-4b1f-97f6-cc1424362b7f",
   "metadata": {},
   "source": [
    "Westcott, M. L. (1987). The breakup of romantic relationships: A study in the social \n",
    "psychology of emotions (Doctoral dissertation). University of Maryland, College Park, MD. "
   ]
  },
  {
   "cell_type": "code",
   "execution_count": null,
   "id": "71e0f786-9c55-40ef-a263-1f70f17d77cb",
   "metadata": {},
   "outputs": [],
   "source": [
    "@book{westcott1987breakup,\n",
    "  title={The breakup of romantic relationships: A study in the social psychology of emotions},\n",
    "  author={Westcott, Mary Lee},\n",
    "  year={1987},\n",
    "  publisher={University of Maryland, College Park}\n",
    "}"
   ]
  },
  {
   "cell_type": "markdown",
   "id": "ad3ff812-dfda-4af3-b6de-028632dbcfdd",
   "metadata": {},
   "source": [
    "Wood, J. T. (1982). Communication and relational culture: Bases for the study of human \n",
    "relationships. Communication Quarterly, 30(2), 75-84. "
   ]
  },
  {
   "cell_type": "code",
   "execution_count": null,
   "id": "ddbfb032-f0d3-4fe5-908e-af56c11c2606",
   "metadata": {},
   "outputs": [],
   "source": [
    "@article{wood1982communication,\n",
    "  title={Communication and relational culture: Bases for the study of human relationships},\n",
    "  author={Wood, Julia T},\n",
    "  journal={Communication Quarterly},\n",
    "  volume={30},\n",
    "  number={2},\n",
    "  pages={75--84},\n",
    "  year={1982},\n",
    "  publisher={Taylor \\& Francis}\n",
    "}"
   ]
  }
 ],
 "metadata": {
  "citation-manager": {
   "items": {}
  },
  "kernelspec": {
   "display_name": "Python 3.11 (COMM4190)",
   "language": "python",
   "name": "comm4190"
  },
  "language_info": {
   "codemirror_mode": {
    "name": "ipython",
    "version": 3
   },
   "file_extension": ".py",
   "mimetype": "text/x-python",
   "name": "python",
   "nbconvert_exporter": "python",
   "pygments_lexer": "ipython3",
   "version": "3.11.7"
  }
 },
 "nbformat": 4,
 "nbformat_minor": 5
}
